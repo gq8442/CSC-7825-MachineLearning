{
 "cells": [
  {
   "cell_type": "code",
   "execution_count": 1,
   "metadata": {},
   "outputs": [],
   "source": [
    "import numpy as np\n",
    "import matplotlib.pyplot as plt\n",
    "from mpl_toolkits.mplot3d import Axes3D\n",
    "from mpl_toolkits import mplot3d\n",
    "\n",
    "%matplotlib inline"
   ]
  },
  {
   "cell_type": "markdown",
   "metadata": {},
   "source": [
    "# Creating $x_i$, $y_i$ by drawing the data such that $x_i\\epsilon\\mathscr{N}(0, \\sigma^2)$ \n",
    "\n",
    "### $$d = 1000, n = 500, \\sigma^2 = 1, k = 100$$\n",
    "\n",
    "### $$y_i = w^T . x_i + \\epsilon_i$$"
   ]
  },
  {
   "cell_type": "code",
   "execution_count": 2,
   "metadata": {},
   "outputs": [],
   "source": [
    "n = 500\n",
    "d = 1000\n",
    "k = 100 # k here denotes the number of relevant features\n",
    "sigma = 1\n",
    "mu = 0"
   ]
  },
  {
   "cell_type": "code",
   "execution_count": 3,
   "metadata": {},
   "outputs": [],
   "source": [
    "# Create the feature matrix using the numpy random standard normal with nxd dimension\n",
    "X = mu + sigma**2 * np.random.standard_normal(size=(n,d))\n",
    "\n",
    "# gaussian error\n",
    "error = mu + sigma**2 * np.random.standard_normal(n)"
   ]
  },
  {
   "cell_type": "code",
   "execution_count": 4,
   "metadata": {},
   "outputs": [],
   "source": [
    "# creating the vector of weights w over the length of features\n",
    "w_i = []\n",
    "for j in range(d):\n",
    "    \n",
    "    if j in range(k):\n",
    "        w_j = j/k\n",
    "    else:\n",
    "        w_j = 0\n",
    "        \n",
    "    w_i.append(w_j)\n",
    "    \n",
    "w_i = np.array(w_i)"
   ]
  },
  {
   "cell_type": "code",
   "execution_count": 5,
   "metadata": {},
   "outputs": [],
   "source": [
    "y = []\n",
    "for i in range(n):\n",
    "    y_i = np.inner(w_i, X[i,]) + error[i]\n",
    "    y.append(y_i)\n",
    "    \n",
    "y = (np.array(y)).reshape(-1,1)"
   ]
  },
  {
   "cell_type": "markdown",
   "metadata": {},
   "source": [
    "# Solving the Lasso coordinate descent algorithm"
   ]
  },
  {
   "cell_type": "code",
   "execution_count": 6,
   "metadata": {},
   "outputs": [],
   "source": [
    "# Define a function for soft thresholding\n",
    "def soft_thresh(c_k, lamda):\n",
    "    \"\"\"\n",
    "    The soft threshold function based on a_k, c_k and lamda\n",
    "    \"\"\"\n",
    "    if c_k < - lamda:\n",
    "        return (c_k + lamda)\n",
    "    elif c_k >  lamda:\n",
    "        return (c_k - lamda)\n",
    "    else: \n",
    "        return 0"
   ]
  },
  {
   "cell_type": "code",
   "execution_count": 7,
   "metadata": {},
   "outputs": [],
   "source": [
    "# function to solve inner loop for the features till d\n",
    "def inner_loop(weight, X, y, lamda, n_it=100):\n",
    "    \n",
    "    n,d = X.shape\n",
    "    \n",
    "    for it in range(n_it):\n",
    "        \n",
    "        for k_it in range(k):\n",
    "            X_of_k = X[:,k_it].reshape(-1,1)\n",
    "            b = X @ weight\n",
    "            c_k = X_of_k.T @ (y - b  + weight[k_it]*X_of_k)\n",
    "            \n",
    "            weight[k_it] =  soft_thresh(c_k, lamda)\n",
    "            \n",
    "    return weight.flatten()"
   ]
  },
  {
   "cell_type": "code",
   "execution_count": 8,
   "metadata": {},
   "outputs": [
    {
     "name": "stderr",
     "output_type": "stream",
     "text": [
      "/home/kush/anaconda3/lib/python3.7/site-packages/ipykernel_launcher.py:11: RuntimeWarning: overflow encountered in matmul\n",
      "  # This is added back by InteractiveShellApp.init_path()\n",
      "/home/kush/anaconda3/lib/python3.7/site-packages/ipykernel_launcher.py:11: RuntimeWarning: invalid value encountered in matmul\n",
      "  # This is added back by InteractiveShellApp.init_path()\n",
      "/home/kush/anaconda3/lib/python3.7/site-packages/ipykernel_launcher.py:11: RuntimeWarning: invalid value encountered in add\n",
      "  # This is added back by InteractiveShellApp.init_path()\n",
      "/home/kush/anaconda3/lib/python3.7/site-packages/ipykernel_launcher.py:10: RuntimeWarning: overflow encountered in matmul\n",
      "  # Remove the CWD from sys.path while we load stuff.\n",
      "/home/kush/anaconda3/lib/python3.7/site-packages/ipykernel_launcher.py:11: RuntimeWarning: overflow encountered in multiply\n",
      "  # This is added back by InteractiveShellApp.init_path()\n",
      "/home/kush/anaconda3/lib/python3.7/site-packages/ipykernel_launcher.py:11: RuntimeWarning: overflow encountered in add\n",
      "  # This is added back by InteractiveShellApp.init_path()\n",
      "/home/kush/anaconda3/lib/python3.7/site-packages/ipykernel_launcher.py:10: RuntimeWarning: invalid value encountered in matmul\n",
      "  # Remove the CWD from sys.path while we load stuff.\n"
     ]
    },
    {
     "data": {
      "text/plain": [
       "(0.0005011872336272725,\n",
       " 1995.2623149688789,\n",
       " -3.9539281277861293e+307,\n",
       " 7.811950710995771e+307)"
      ]
     },
     "execution_count": 8,
     "metadata": {},
     "output_type": "execute_result"
    },
    {
     "name": "stderr",
     "output_type": "stream",
     "text": [
      "/home/kush/anaconda3/lib/python3.7/site-packages/matplotlib/ticker.py:2039: RuntimeWarning: overflow encountered in multiply\n",
      "  steps = self._extended_steps * scale\n"
     ]
    },
    {
     "data": {
      "image/png": "[encoded data removed]",
      "text/plain": [
       "<Figure size 1008x576 with 1 Axes>"
      ]
     },
     "metadata": {
      "needs_background": "light"
     },
     "output_type": "display_data"
    }
   ],
   "source": [
    "int_weights = np.ones((X.shape[1],1))\n",
    "weight_list = []\n",
    "lamda = np.logspace(3.0, -3, num=100)\n",
    "\n",
    "# the Outer loop for lamda\n",
    "for lam in lamda:\n",
    "    weight = inner_loop(int_weights, X, y, lamda=lam)\n",
    "    weight_list.append(weight)\n",
    "    \n",
    "#Stack into numpy array\n",
    "weights_lasso = np.stack(weight_list).T\n",
    "\n",
    "\n",
    "#Plot results\n",
    "n,_ = weights_lasso.shape\n",
    "plt.figure(figsize = (14,8))\n",
    "\n",
    "for i in range(n):\n",
    "    plt.plot(lamda[:len(weight_list)], weights_lasso[i])\n",
    "\n",
    "plt.xscale('log')\n",
    "plt.xlabel('Log($\\\\lambda$)')\n",
    "plt.ylabel('Weights')\n",
    "plt.title('Regularization Path')\n",
    "plt.axis('tight')"
   ]
  },
  {
   "cell_type": "code",
   "execution_count": 11,
   "metadata": {},
   "outputs": [],
   "source": [
    "c = np.array([[ 1, 2, 3],\n",
    "\n",
    "              [-1, 1, 4]])"
   ]
  },
  {
   "cell_type": "code",
   "execution_count": 12,
   "metadata": {},
   "outputs": [
    {
     "data": {
      "text/plain": [
       "array([[ 1,  2,  3],\n",
       "       [-1,  1,  4]])"
      ]
     },
     "execution_count": 12,
     "metadata": {},
     "output_type": "execute_result"
    }
   ],
   "source": [
    "c"
   ]
  },
  {
   "cell_type": "code",
   "execution_count": 19,
   "metadata": {},
   "outputs": [
    {
     "name": "stderr",
     "output_type": "stream",
     "text": [
      "100%|██████████| 1000/1000 [00:00<00:00, 1293340.73it/s]\n"
     ]
    }
   ],
   "source": [
    "from tqdm import tqdm\n",
    "import time\n",
    "for i in tqdm(range(1000)):\n",
    "    a = i+5"
   ]
  },
  {
   "cell_type": "code",
   "execution_count": null,
   "metadata": {},
   "outputs": [],
   "source": []
  }
 ],
 "metadata": {
  "kernelspec": {
   "display_name": "Python 3",
   "language": "python",
   "name": "python3"
  },
  "language_info": {
   "codemirror_mode": {
    "name": "ipython",
    "version": 3
   },
   "file_extension": ".py",
   "mimetype": "text/x-python",
   "name": "python",
   "nbconvert_exporter": "python",
   "pygments_lexer": "ipython3",
   "version": "3.7.6"
  }
 },
 "nbformat": 4,
 "nbformat_minor": 4
}
